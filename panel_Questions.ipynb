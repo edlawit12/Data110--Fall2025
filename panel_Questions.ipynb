{
  "nbformat": 4,
  "nbformat_minor": 0,
  "metadata": {
    "colab": {
      "provenance": [],
      "authorship_tag": "ABX9TyOeXoHhUZxTmCMqm/9i2lS8",
      "include_colab_link": true
    },
    "kernelspec": {
      "name": "python3",
      "display_name": "Python 3"
    },
    "language_info": {
      "name": "python"
    }
  },
  "cells": [
    {
      "cell_type": "markdown",
      "metadata": {
        "id": "view-in-github",
        "colab_type": "text"
      },
      "source": [
        "<a href=\"https://colab.research.google.com/github/edlawit12/Data110--Fall2025/blob/main/panel_Questions.ipynb\" target=\"_parent\"><img src=\"https://colab.research.google.com/assets/colab-badge.svg\" alt=\"Open In Colab\"/></a>"
      ]
    },
    {
      "cell_type": "code",
      "execution_count": null,
      "metadata": {
        "id": "GdOxCkCdJoUG"
      },
      "outputs": [],
      "source": []
    },
    {
      "cell_type": "markdown",
      "source": [
        "Important Idea- One important idea I learned from the panel is how the panelists described their unique career journeys and how they were able to enter the field of data science despite coming from different academic and professional backgrounds. It showed that there is no single path to success in data science — what matters most is curiosity, persistence, and continuous learning.\n",
        "\n",
        "Reflection-\n",
        "Even though my main major is not in data science, I realized that I can still connect my current studies to this field by exploring different resources, taking online courses, and building relevant skills such as data analysis and programming. The panel inspired me to see how transferable skills from my major can be applied in data-driven roles, which motivates me to keep learning and developing my technical and analytical abilities.\n",
        "\n",
        "Question- As a general advice, how important is it to get a bachlors degree in Data sceince more than teaching ones self through project and certefiactions to succsufully enter the workforce.\n"
      ],
      "metadata": {
        "id": "Glo3Cr7LJq56"
      }
    }
  ]
}